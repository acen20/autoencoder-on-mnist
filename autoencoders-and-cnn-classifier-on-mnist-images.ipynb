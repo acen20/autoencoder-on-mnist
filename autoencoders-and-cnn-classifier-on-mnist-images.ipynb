{
 "cells": [
  {
   "cell_type": "code",
   "execution_count": 1,
   "id": "2403cf05",
   "metadata": {
    "execution": {
     "iopub.execute_input": "2021-08-04T07:17:33.776346Z",
     "iopub.status.busy": "2021-08-04T07:17:33.775683Z",
     "iopub.status.idle": "2021-08-04T07:17:40.124982Z",
     "shell.execute_reply": "2021-08-04T07:17:40.124272Z",
     "shell.execute_reply.started": "2021-08-04T07:01:04.677029Z"
    },
    "papermill": {
     "duration": 6.396098,
     "end_time": "2021-08-04T07:17:40.125143",
     "exception": false,
     "start_time": "2021-08-04T07:17:33.729045",
     "status": "completed"
    },
    "tags": []
   },
   "outputs": [],
   "source": [
    "from keras import layers\n",
    "from keras.datasets import mnist\n",
    "import numpy as np\n",
    "import matplotlib.pyplot as plt\n",
    "from sklearn.preprocessing import LabelEncoder\n",
    "from keras.utils import to_categorical\n",
    "import keras\n",
    "from sklearn.model_selection import train_test_split\n",
    "from keras.models import Sequential,Input,Model\n",
    "from keras.layers import Dense, Dropout, Flatten\n",
    "from keras.layers import Conv2D, MaxPooling2D\n",
    "from keras.layers.normalization import BatchNormalization\n",
    "from keras.layers.advanced_activations import LeakyReLU\n",
    "from sklearn.metrics import classification_report\n",
    "\n",
    "# This is the size of our encoded representations\n",
    "encoding_dim = 32  # 32 floats -> compression of factor 24.5, assuming the input is 784 floats\n",
    "\n",
    "# This is our input image\n",
    "input_img = keras.Input(shape=(784,))\n",
    "# \"encoded\" is the encoded representation of the input\n",
    "encoded = layers.Dense(encoding_dim, activation='relu')(input_img)\n",
    "# \"decoded\" is the lossy reconstruction of the input\n",
    "decoded = layers.Dense(784, activation='sigmoid')(encoded)\n",
    "\n",
    "# This model maps an input to its reconstruction\n",
    "autoencoder = keras.Model(input_img, decoded)"
   ]
  },
  {
   "cell_type": "code",
   "execution_count": 2,
   "id": "2649db16",
   "metadata": {
    "execution": {
     "iopub.execute_input": "2021-08-04T07:17:40.193125Z",
     "iopub.status.busy": "2021-08-04T07:17:40.192562Z",
     "iopub.status.idle": "2021-08-04T07:17:40.196472Z",
     "shell.execute_reply": "2021-08-04T07:17:40.195840Z",
     "shell.execute_reply.started": "2021-08-04T07:01:04.750208Z"
    },
    "papermill": {
     "duration": 0.039692,
     "end_time": "2021-08-04T07:17:40.196595",
     "exception": false,
     "start_time": "2021-08-04T07:17:40.156903",
     "status": "completed"
    },
    "tags": []
   },
   "outputs": [],
   "source": [
    "# This model maps an input to its encoded representation\n",
    "encoder = keras.Model(input_img, encoded)"
   ]
  },
  {
   "cell_type": "code",
   "execution_count": 3,
   "id": "b5656070",
   "metadata": {
    "execution": {
     "iopub.execute_input": "2021-08-04T07:17:40.262192Z",
     "iopub.status.busy": "2021-08-04T07:17:40.261559Z",
     "iopub.status.idle": "2021-08-04T07:17:40.272862Z",
     "shell.execute_reply": "2021-08-04T07:17:40.272324Z",
     "shell.execute_reply.started": "2021-08-04T07:01:05.001755Z"
    },
    "papermill": {
     "duration": 0.046782,
     "end_time": "2021-08-04T07:17:40.272994",
     "exception": false,
     "start_time": "2021-08-04T07:17:40.226212",
     "status": "completed"
    },
    "tags": []
   },
   "outputs": [],
   "source": [
    "# This is our encoded (32-dimensional) input\n",
    "encoded_input = keras.Input(shape=(encoding_dim,))\n",
    "# Retrieve the last layer of the autoencoder model\n",
    "decoder_layer = autoencoder.layers[-1]\n",
    "# Create the decoder model\n",
    "decoder = keras.Model(encoded_input, decoder_layer(encoded_input))"
   ]
  },
  {
   "cell_type": "code",
   "execution_count": 4,
   "id": "cc9c996b",
   "metadata": {
    "execution": {
     "iopub.execute_input": "2021-08-04T07:17:40.337184Z",
     "iopub.status.busy": "2021-08-04T07:17:40.336588Z",
     "iopub.status.idle": "2021-08-04T07:17:40.350709Z",
     "shell.execute_reply": "2021-08-04T07:17:40.351263Z",
     "shell.execute_reply.started": "2021-08-04T07:01:05.079717Z"
    },
    "papermill": {
     "duration": 0.047906,
     "end_time": "2021-08-04T07:17:40.351454",
     "exception": false,
     "start_time": "2021-08-04T07:17:40.303548",
     "status": "completed"
    },
    "tags": []
   },
   "outputs": [],
   "source": [
    "autoencoder.compile(optimizer='adam', loss='binary_crossentropy')"
   ]
  },
  {
   "cell_type": "code",
   "execution_count": 5,
   "id": "15763690",
   "metadata": {
    "execution": {
     "iopub.execute_input": "2021-08-04T07:17:40.414782Z",
     "iopub.status.busy": "2021-08-04T07:17:40.414095Z",
     "iopub.status.idle": "2021-08-04T07:17:41.056201Z",
     "shell.execute_reply": "2021-08-04T07:17:41.056740Z",
     "shell.execute_reply.started": "2021-08-04T07:01:05.094284Z"
    },
    "papermill": {
     "duration": 0.675431,
     "end_time": "2021-08-04T07:17:41.056906",
     "exception": false,
     "start_time": "2021-08-04T07:17:40.381475",
     "status": "completed"
    },
    "tags": []
   },
   "outputs": [
    {
     "name": "stdout",
     "output_type": "stream",
     "text": [
      "Downloading data from https://storage.googleapis.com/tensorflow/tf-keras-datasets/mnist.npz\n",
      "11493376/11490434 [==============================] - 0s 0us/step\n"
     ]
    }
   ],
   "source": [
    "(x_train, train_y), (x_test, test_y) = mnist.load_data()"
   ]
  },
  {
   "cell_type": "code",
   "execution_count": 6,
   "id": "c1516065",
   "metadata": {
    "execution": {
     "iopub.execute_input": "2021-08-04T07:17:41.122552Z",
     "iopub.status.busy": "2021-08-04T07:17:41.121940Z",
     "iopub.status.idle": "2021-08-04T07:17:41.227059Z",
     "shell.execute_reply": "2021-08-04T07:17:41.226422Z",
     "shell.execute_reply.started": "2021-08-04T07:01:05.417237Z"
    },
    "papermill": {
     "duration": 0.138204,
     "end_time": "2021-08-04T07:17:41.227185",
     "exception": false,
     "start_time": "2021-08-04T07:17:41.088981",
     "status": "completed"
    },
    "tags": []
   },
   "outputs": [
    {
     "name": "stdout",
     "output_type": "stream",
     "text": [
      "(60000, 784)\n",
      "(10000, 784)\n"
     ]
    }
   ],
   "source": [
    "x_train = x_train.astype('float32') / 255.\n",
    "x_test = x_test.astype('float32') / 255.\n",
    "x_train = x_train.reshape((len(x_train), np.prod(x_train.shape[1:])))\n",
    "x_test = x_test.reshape((len(x_test), np.prod(x_test.shape[1:])))\n",
    "print(x_train.shape)\n",
    "print(x_test.shape)"
   ]
  },
  {
   "cell_type": "code",
   "execution_count": 7,
   "id": "a6b60a40",
   "metadata": {
    "execution": {
     "iopub.execute_input": "2021-08-04T07:17:41.295186Z",
     "iopub.status.busy": "2021-08-04T07:17:41.294501Z",
     "iopub.status.idle": "2021-08-04T07:19:00.881800Z",
     "shell.execute_reply": "2021-08-04T07:19:00.882410Z",
     "shell.execute_reply.started": "2021-08-04T07:01:05.501862Z"
    },
    "papermill": {
     "duration": 79.623248,
     "end_time": "2021-08-04T07:19:00.882632",
     "exception": false,
     "start_time": "2021-08-04T07:17:41.259384",
     "status": "completed"
    },
    "tags": []
   },
   "outputs": [
    {
     "name": "stdout",
     "output_type": "stream",
     "text": [
      "Epoch 1/50\n",
      "235/235 [==============================] - 3s 9ms/step - loss: 0.3787 - val_loss: 0.1906\n",
      "Epoch 2/50\n",
      "235/235 [==============================] - 2s 7ms/step - loss: 0.1806 - val_loss: 0.1544\n",
      "Epoch 3/50\n",
      "235/235 [==============================] - 2s 7ms/step - loss: 0.1501 - val_loss: 0.1341\n",
      "Epoch 4/50\n",
      "235/235 [==============================] - 2s 7ms/step - loss: 0.1320 - val_loss: 0.1218\n",
      "Epoch 5/50\n",
      "235/235 [==============================] - 2s 7ms/step - loss: 0.1209 - val_loss: 0.1135\n",
      "Epoch 6/50\n",
      "235/235 [==============================] - 2s 7ms/step - loss: 0.1135 - val_loss: 0.1078\n",
      "Epoch 7/50\n",
      "235/235 [==============================] - 2s 7ms/step - loss: 0.1081 - val_loss: 0.1036\n",
      "Epoch 8/50\n",
      "235/235 [==============================] - 2s 6ms/step - loss: 0.1039 - val_loss: 0.1003\n",
      "Epoch 9/50\n",
      "235/235 [==============================] - 2s 7ms/step - loss: 0.1010 - val_loss: 0.0977\n",
      "Epoch 10/50\n",
      "235/235 [==============================] - 2s 7ms/step - loss: 0.0985 - val_loss: 0.0960\n",
      "Epoch 11/50\n",
      "235/235 [==============================] - 2s 7ms/step - loss: 0.0972 - val_loss: 0.0948\n",
      "Epoch 12/50\n",
      "235/235 [==============================] - 2s 7ms/step - loss: 0.0959 - val_loss: 0.0940\n",
      "Epoch 13/50\n",
      "235/235 [==============================] - 2s 7ms/step - loss: 0.0952 - val_loss: 0.0935\n",
      "Epoch 14/50\n",
      "235/235 [==============================] - 2s 6ms/step - loss: 0.0946 - val_loss: 0.0931\n",
      "Epoch 15/50\n",
      "235/235 [==============================] - 2s 7ms/step - loss: 0.0943 - val_loss: 0.0929\n",
      "Epoch 16/50\n",
      "235/235 [==============================] - 2s 7ms/step - loss: 0.0940 - val_loss: 0.0927\n",
      "Epoch 17/50\n",
      "235/235 [==============================] - 2s 7ms/step - loss: 0.0940 - val_loss: 0.0925\n",
      "Epoch 18/50\n",
      "235/235 [==============================] - 2s 7ms/step - loss: 0.0936 - val_loss: 0.0924\n",
      "Epoch 19/50\n",
      "235/235 [==============================] - 2s 7ms/step - loss: 0.0936 - val_loss: 0.0922\n",
      "Epoch 20/50\n",
      "235/235 [==============================] - 2s 7ms/step - loss: 0.0935 - val_loss: 0.0922\n",
      "Epoch 21/50\n",
      "235/235 [==============================] - 2s 7ms/step - loss: 0.0935 - val_loss: 0.0923\n",
      "Epoch 22/50\n",
      "235/235 [==============================] - 2s 6ms/step - loss: 0.0934 - val_loss: 0.0920\n",
      "Epoch 23/50\n",
      "235/235 [==============================] - 2s 7ms/step - loss: 0.0933 - val_loss: 0.0920\n",
      "Epoch 24/50\n",
      "235/235 [==============================] - 2s 7ms/step - loss: 0.0932 - val_loss: 0.0919\n",
      "Epoch 25/50\n",
      "235/235 [==============================] - 2s 7ms/step - loss: 0.0931 - val_loss: 0.0920\n",
      "Epoch 26/50\n",
      "235/235 [==============================] - 2s 7ms/step - loss: 0.0932 - val_loss: 0.0919\n",
      "Epoch 27/50\n",
      "235/235 [==============================] - 2s 7ms/step - loss: 0.0930 - val_loss: 0.0918\n",
      "Epoch 28/50\n",
      "235/235 [==============================] - 2s 7ms/step - loss: 0.0929 - val_loss: 0.0919\n",
      "Epoch 29/50\n",
      "235/235 [==============================] - 2s 7ms/step - loss: 0.0931 - val_loss: 0.0918\n",
      "Epoch 30/50\n",
      "235/235 [==============================] - 2s 7ms/step - loss: 0.0931 - val_loss: 0.0918\n",
      "Epoch 31/50\n",
      "235/235 [==============================] - 2s 7ms/step - loss: 0.0927 - val_loss: 0.0917\n",
      "Epoch 32/50\n",
      "235/235 [==============================] - 2s 6ms/step - loss: 0.0928 - val_loss: 0.0917\n",
      "Epoch 33/50\n",
      "235/235 [==============================] - 2s 7ms/step - loss: 0.0928 - val_loss: 0.0917\n",
      "Epoch 34/50\n",
      "235/235 [==============================] - 2s 7ms/step - loss: 0.0932 - val_loss: 0.0916\n",
      "Epoch 35/50\n",
      "235/235 [==============================] - 1s 6ms/step - loss: 0.0929 - val_loss: 0.0917\n",
      "Epoch 36/50\n",
      "235/235 [==============================] - 2s 6ms/step - loss: 0.0929 - val_loss: 0.0917\n",
      "Epoch 37/50\n",
      "235/235 [==============================] - 2s 6ms/step - loss: 0.0928 - val_loss: 0.0917\n",
      "Epoch 38/50\n",
      "235/235 [==============================] - 2s 7ms/step - loss: 0.0927 - val_loss: 0.0917\n",
      "Epoch 39/50\n",
      "235/235 [==============================] - 2s 6ms/step - loss: 0.0928 - val_loss: 0.0916\n",
      "Epoch 40/50\n",
      "235/235 [==============================] - 2s 6ms/step - loss: 0.0929 - val_loss: 0.0916\n",
      "Epoch 41/50\n",
      "235/235 [==============================] - 2s 7ms/step - loss: 0.0929 - val_loss: 0.0915\n",
      "Epoch 42/50\n",
      "235/235 [==============================] - 2s 6ms/step - loss: 0.0926 - val_loss: 0.0915\n",
      "Epoch 43/50\n",
      "235/235 [==============================] - 2s 7ms/step - loss: 0.0928 - val_loss: 0.0916\n",
      "Epoch 44/50\n",
      "235/235 [==============================] - 2s 7ms/step - loss: 0.0927 - val_loss: 0.0916\n",
      "Epoch 45/50\n",
      "235/235 [==============================] - 2s 7ms/step - loss: 0.0927 - val_loss: 0.0915\n",
      "Epoch 46/50\n",
      "235/235 [==============================] - 1s 6ms/step - loss: 0.0926 - val_loss: 0.0915\n",
      "Epoch 47/50\n",
      "235/235 [==============================] - 2s 7ms/step - loss: 0.0925 - val_loss: 0.0915\n",
      "Epoch 48/50\n",
      "235/235 [==============================] - 2s 7ms/step - loss: 0.0928 - val_loss: 0.0915\n",
      "Epoch 49/50\n",
      "235/235 [==============================] - 2s 6ms/step - loss: 0.0925 - val_loss: 0.0915\n",
      "Epoch 50/50\n",
      "235/235 [==============================] - 2s 7ms/step - loss: 0.0927 - val_loss: 0.0915\n"
     ]
    },
    {
     "data": {
      "text/plain": [
       "<tensorflow.python.keras.callbacks.History at 0x7f8c08009f50>"
      ]
     },
     "execution_count": 7,
     "metadata": {},
     "output_type": "execute_result"
    }
   ],
   "source": [
    "autoencoder.fit(x_train, x_train,\n",
    "                epochs=50,\n",
    "                batch_size=256,\n",
    "                shuffle=True,\n",
    "                validation_data=(x_test, x_test))"
   ]
  },
  {
   "cell_type": "code",
   "execution_count": 8,
   "id": "275896f7",
   "metadata": {
    "execution": {
     "iopub.execute_input": "2021-08-04T07:19:02.046128Z",
     "iopub.status.busy": "2021-08-04T07:19:02.045491Z",
     "iopub.status.idle": "2021-08-04T07:19:05.012704Z",
     "shell.execute_reply": "2021-08-04T07:19:05.013263Z",
     "shell.execute_reply.started": "2021-08-04T07:02:31.631233Z"
    },
    "papermill": {
     "duration": 3.610941,
     "end_time": "2021-08-04T07:19:05.013504",
     "exception": false,
     "start_time": "2021-08-04T07:19:01.402563",
     "status": "completed"
    },
    "tags": []
   },
   "outputs": [],
   "source": [
    "train_encoded_imgs = encoder.predict(x_train)\n",
    "test_encoded_imgs = encoder.predict(x_test)\n",
    "\n",
    "train_decoded_imgs = decoder.predict(train_encoded_imgs)\n",
    "test_decoded_imgs = decoder.predict(test_encoded_imgs)"
   ]
  },
  {
   "cell_type": "code",
   "execution_count": 9,
   "id": "22e9db2f",
   "metadata": {
    "execution": {
     "iopub.execute_input": "2021-08-04T07:19:05.932638Z",
     "iopub.status.busy": "2021-08-04T07:19:05.931928Z",
     "iopub.status.idle": "2021-08-04T07:19:06.778872Z",
     "shell.execute_reply": "2021-08-04T07:19:06.779390Z",
     "shell.execute_reply.started": "2021-08-04T07:02:34.997688Z"
    },
    "papermill": {
     "duration": 1.292937,
     "end_time": "2021-08-04T07:19:06.779570",
     "exception": false,
     "start_time": "2021-08-04T07:19:05.486633",
     "status": "completed"
    },
    "tags": []
   },
   "outputs": [
    {
     "data": {
      "image/png": "[encoded data removed]",
      "text/plain": [
       "<Figure size 1440x288 with 20 Axes>"
      ]
     },
     "metadata": {
      "needs_background": "light"
     },
     "output_type": "display_data"
    }
   ],
   "source": [
    "n = 10  # How many digits we will display\n",
    "plt.figure(figsize=(20, 4))\n",
    "for i in range(n):\n",
    "    # Display original\n",
    "    ax = plt.subplot(2, n, i + 1)\n",
    "    plt.imshow(x_test[i].reshape(28, 28))\n",
    "    plt.gray()\n",
    "    ax.get_xaxis().set_visible(False)\n",
    "    ax.get_yaxis().set_visible(False)\n",
    "\n",
    "    # Display reconstruction\n",
    "    ax = plt.subplot(2, n, i + 1 + n)\n",
    "    plt.imshow(test_decoded_imgs[i].reshape(28, 28))\n",
    "    plt.gray()\n",
    "    ax.get_xaxis().set_visible(False)\n",
    "    ax.get_yaxis().set_visible(False)\n",
    "plt.show()"
   ]
  },
  {
   "cell_type": "code",
   "execution_count": 10,
   "id": "56007c92",
   "metadata": {
    "execution": {
     "iopub.execute_input": "2021-08-04T07:19:07.667373Z",
     "iopub.status.busy": "2021-08-04T07:19:07.666745Z",
     "iopub.status.idle": "2021-08-04T07:19:07.672337Z",
     "shell.execute_reply": "2021-08-04T07:19:07.672839Z",
     "shell.execute_reply.started": "2021-08-04T07:02:35.972808Z"
    },
    "papermill": {
     "duration": 0.454893,
     "end_time": "2021-08-04T07:19:07.673006",
     "exception": false,
     "start_time": "2021-08-04T07:19:07.218113",
     "status": "completed"
    },
    "tags": []
   },
   "outputs": [
    {
     "data": {
      "text/plain": [
       "((60000, 28, 28, 1), (10000, 28, 28, 1))"
      ]
     },
     "execution_count": 10,
     "metadata": {},
     "output_type": "execute_result"
    }
   ],
   "source": [
    "train_X = train_decoded_imgs[:].reshape(-1, 28,28, 1)\n",
    "test_X = test_decoded_imgs[:].reshape(-1, 28,28, 1)\n",
    "train_X.shape, test_X.shape"
   ]
  },
  {
   "cell_type": "code",
   "execution_count": 11,
   "id": "1beec7d7",
   "metadata": {
    "execution": {
     "iopub.execute_input": "2021-08-04T07:19:08.568503Z",
     "iopub.status.busy": "2021-08-04T07:19:08.567790Z",
     "iopub.status.idle": "2021-08-04T07:19:08.576561Z",
     "shell.execute_reply": "2021-08-04T07:19:08.576001Z",
     "shell.execute_reply.started": "2021-08-04T07:02:35.982074Z"
    },
    "papermill": {
     "duration": 0.452862,
     "end_time": "2021-08-04T07:19:08.576718",
     "exception": false,
     "start_time": "2021-08-04T07:19:08.123856",
     "status": "completed"
    },
    "tags": []
   },
   "outputs": [
    {
     "name": "stdout",
     "output_type": "stream",
     "text": [
      "Original label: 5\n",
      "After conversion to one-hot: [0. 0. 0. 0. 0. 1. 0. 0. 0. 0.]\n"
     ]
    }
   ],
   "source": [
    "train_Y_one_hot = to_categorical(train_y)\n",
    "test_Y_one_hot = to_categorical(test_y)\n",
    "\n",
    "print('Original label:', train_y[0])\n",
    "print('After conversion to one-hot:', train_Y_one_hot[0])"
   ]
  },
  {
   "cell_type": "code",
   "execution_count": 12,
   "id": "d28b384d",
   "metadata": {
    "execution": {
     "iopub.execute_input": "2021-08-04T07:19:09.569142Z",
     "iopub.status.busy": "2021-08-04T07:19:09.568533Z",
     "iopub.status.idle": "2021-08-04T07:19:09.642193Z",
     "shell.execute_reply": "2021-08-04T07:19:09.641672Z",
     "shell.execute_reply.started": "2021-08-04T07:02:35.997824Z"
    },
    "papermill": {
     "duration": 0.575537,
     "end_time": "2021-08-04T07:19:09.642358",
     "exception": false,
     "start_time": "2021-08-04T07:19:09.066821",
     "status": "completed"
    },
    "tags": []
   },
   "outputs": [],
   "source": [
    "train_X,valid_X,train_label,valid_label = train_test_split(train_X, train_Y_one_hot, test_size=0.2, random_state=13)"
   ]
  },
  {
   "cell_type": "code",
   "execution_count": 13,
   "id": "512c0d16",
   "metadata": {
    "execution": {
     "iopub.execute_input": "2021-08-04T07:19:10.543953Z",
     "iopub.status.busy": "2021-08-04T07:19:10.538213Z",
     "iopub.status.idle": "2021-08-04T07:19:10.548494Z",
     "shell.execute_reply": "2021-08-04T07:19:10.548976Z",
     "shell.execute_reply.started": "2021-08-04T07:03:44.158196Z"
    },
    "papermill": {
     "duration": 0.461901,
     "end_time": "2021-08-04T07:19:10.549137",
     "exception": false,
     "start_time": "2021-08-04T07:19:10.087236",
     "status": "completed"
    },
    "tags": []
   },
   "outputs": [
    {
     "data": {
      "text/plain": [
       "array([[[[5.1538058e-07],\n",
       "         [5.9477139e-07],\n",
       "         [2.1100136e-06],\n",
       "         ...,\n",
       "         [6.8609529e-07],\n",
       "         [1.1580559e-06],\n",
       "         [1.0931844e-06]],\n",
       "\n",
       "        [[1.0560944e-06],\n",
       "         [8.9858861e-07],\n",
       "         [8.6979401e-07],\n",
       "         ...,\n",
       "         [5.8649647e-07],\n",
       "         [3.0959941e-07],\n",
       "         [2.7014843e-07]],\n",
       "\n",
       "        [[9.1573247e-07],\n",
       "         [4.6726501e-07],\n",
       "         [2.8781571e-05],\n",
       "         ...,\n",
       "         [2.2273064e-03],\n",
       "         [6.9972941e-07],\n",
       "         [1.7871557e-06]],\n",
       "\n",
       "        ...,\n",
       "\n",
       "        [[1.0283012e-06],\n",
       "         [1.0343530e-06],\n",
       "         [3.8070160e-05],\n",
       "         ...,\n",
       "         [9.8637400e-05],\n",
       "         [1.1014640e-03],\n",
       "         [2.2404103e-07]],\n",
       "\n",
       "        [[1.3382191e-06],\n",
       "         [4.0706828e-07],\n",
       "         [6.4339872e-07],\n",
       "         ...,\n",
       "         [8.2866500e-06],\n",
       "         [6.8143481e-07],\n",
       "         [4.2730423e-07]],\n",
       "\n",
       "        [[5.7712320e-08],\n",
       "         [3.1669782e-07],\n",
       "         [1.3120765e-06],\n",
       "         ...,\n",
       "         [2.7128931e-07],\n",
       "         [3.3807640e-07],\n",
       "         [5.2705838e-07]]],\n",
       "\n",
       "\n",
       "       [[[8.6560330e-15],\n",
       "         [3.1145973e-13],\n",
       "         [6.9276930e-13],\n",
       "         ...,\n",
       "         [1.5866019e-13],\n",
       "         [3.6910012e-13],\n",
       "         [3.1163860e-13]],\n",
       "\n",
       "        [[1.0285638e-12],\n",
       "         [2.9480316e-13],\n",
       "         [5.5377431e-13],\n",
       "         ...,\n",
       "         [1.7848661e-12],\n",
       "         [1.8642114e-13],\n",
       "         [2.9841421e-13]],\n",
       "\n",
       "        [[7.4026766e-13],\n",
       "         [1.0112909e-13],\n",
       "         [3.3470701e-07],\n",
       "         ...,\n",
       "         [3.0514212e-07],\n",
       "         [7.8058016e-14],\n",
       "         [6.7517162e-13]],\n",
       "\n",
       "        ...,\n",
       "\n",
       "        [[8.1016696e-14],\n",
       "         [3.0656315e-13],\n",
       "         [1.5361811e-09],\n",
       "         ...,\n",
       "         [3.3515434e-08],\n",
       "         [2.9294300e-08],\n",
       "         [2.0512545e-13]],\n",
       "\n",
       "        [[8.1072231e-13],\n",
       "         [5.6766516e-13],\n",
       "         [1.9290502e-12],\n",
       "         ...,\n",
       "         [5.5631853e-12],\n",
       "         [7.8517520e-13],\n",
       "         [3.4040848e-14]],\n",
       "\n",
       "        [[2.9046470e-13],\n",
       "         [3.2257146e-14],\n",
       "         [1.2072403e-12],\n",
       "         ...,\n",
       "         [2.3439682e-14],\n",
       "         [2.3894832e-14],\n",
       "         [9.7803289e-14]]],\n",
       "\n",
       "\n",
       "       [[[6.3978824e-14],\n",
       "         [7.4270727e-13],\n",
       "         [2.5363951e-12],\n",
       "         ...,\n",
       "         [3.6660605e-12],\n",
       "         [9.6065994e-13],\n",
       "         [2.8071572e-13]],\n",
       "\n",
       "        [[3.9602687e-12],\n",
       "         [2.3344983e-12],\n",
       "         [1.9450804e-13],\n",
       "         ...,\n",
       "         [3.9012136e-12],\n",
       "         [2.1543932e-12],\n",
       "         [1.8384320e-12]],\n",
       "\n",
       "        [[5.7437007e-12],\n",
       "         [6.1613800e-14],\n",
       "         [8.0869810e-08],\n",
       "         ...,\n",
       "         [3.5087982e-08],\n",
       "         [8.4855544e-14],\n",
       "         [2.1986453e-12]],\n",
       "\n",
       "        ...,\n",
       "\n",
       "        [[5.0355315e-13],\n",
       "         [6.2269764e-13],\n",
       "         [1.4594716e-06],\n",
       "         ...,\n",
       "         [2.3105125e-07],\n",
       "         [1.3312276e-09],\n",
       "         [7.9414730e-13]],\n",
       "\n",
       "        [[1.3746475e-11],\n",
       "         [1.1146657e-12],\n",
       "         [5.2956762e-12],\n",
       "         ...,\n",
       "         [7.3695451e-12],\n",
       "         [4.1991183e-13],\n",
       "         [2.7386169e-13]],\n",
       "\n",
       "        [[2.6885482e-13],\n",
       "         [4.6530982e-14],\n",
       "         [4.2127158e-13],\n",
       "         ...,\n",
       "         [1.0188242e-13],\n",
       "         [2.6430609e-14],\n",
       "         [4.1680781e-13]]],\n",
       "\n",
       "\n",
       "       ...,\n",
       "\n",
       "\n",
       "       [[[4.2438222e-09],\n",
       "         [6.2825825e-09],\n",
       "         [6.7963573e-09],\n",
       "         ...,\n",
       "         [1.1819898e-09],\n",
       "         [3.0413401e-09],\n",
       "         [3.7209087e-09]],\n",
       "\n",
       "        [[1.2632505e-08],\n",
       "         [1.1893266e-08],\n",
       "         [3.9543346e-09],\n",
       "         ...,\n",
       "         [2.7698213e-09],\n",
       "         [1.0286856e-08],\n",
       "         [3.7407766e-09]],\n",
       "\n",
       "        [[1.9975834e-08],\n",
       "         [4.5412829e-09],\n",
       "         [1.1895388e-06],\n",
       "         ...,\n",
       "         [5.4372987e-07],\n",
       "         [1.0578569e-09],\n",
       "         [1.3952484e-08]],\n",
       "\n",
       "        ...,\n",
       "\n",
       "        [[6.8036594e-09],\n",
       "         [7.4469750e-09],\n",
       "         [5.6356629e-07],\n",
       "         ...,\n",
       "         [4.5643756e-06],\n",
       "         [5.5788036e-07],\n",
       "         [8.8508081e-09]],\n",
       "\n",
       "        [[2.8597583e-08],\n",
       "         [1.1260124e-08],\n",
       "         [1.7866750e-08],\n",
       "         ...,\n",
       "         [6.2615904e-08],\n",
       "         [2.0631212e-08],\n",
       "         [2.0222088e-09]],\n",
       "\n",
       "        [[7.9999598e-09],\n",
       "         [8.6565048e-09],\n",
       "         [9.8573443e-09],\n",
       "         ...,\n",
       "         [4.7475912e-09],\n",
       "         [5.8384342e-09],\n",
       "         [5.9031109e-09]]],\n",
       "\n",
       "\n",
       "       [[[3.0368977e-14],\n",
       "         [1.3590205e-12],\n",
       "         [1.2886350e-12],\n",
       "         ...,\n",
       "         [1.4620792e-12],\n",
       "         [3.5495473e-13],\n",
       "         [7.7503509e-13]],\n",
       "\n",
       "        [[9.1099816e-13],\n",
       "         [2.5533351e-12],\n",
       "         [7.1758741e-14],\n",
       "         ...,\n",
       "         [6.5640142e-13],\n",
       "         [6.1905965e-13],\n",
       "         [2.3976565e-13]],\n",
       "\n",
       "        [[8.4707632e-13],\n",
       "         [7.4348642e-14],\n",
       "         [2.9402014e-07],\n",
       "         ...,\n",
       "         [1.3716665e-08],\n",
       "         [1.0946160e-13],\n",
       "         [1.0168329e-12]],\n",
       "\n",
       "        ...,\n",
       "\n",
       "        [[1.6683230e-13],\n",
       "         [1.5421883e-12],\n",
       "         [1.8881067e-07],\n",
       "         ...,\n",
       "         [3.7860342e-09],\n",
       "         [6.4213806e-10],\n",
       "         [5.9698015e-13]],\n",
       "\n",
       "        [[2.0146103e-12],\n",
       "         [5.3328837e-13],\n",
       "         [2.6777359e-12],\n",
       "         ...,\n",
       "         [5.9931039e-11],\n",
       "         [4.3165512e-13],\n",
       "         [1.4860181e-13]],\n",
       "\n",
       "        [[3.6451273e-13],\n",
       "         [7.0574311e-14],\n",
       "         [4.2184087e-13],\n",
       "         ...,\n",
       "         [1.0824908e-13],\n",
       "         [1.6060846e-14],\n",
       "         [3.2997877e-13]]],\n",
       "\n",
       "\n",
       "       [[[7.6657966e-14],\n",
       "         [1.2656578e-11],\n",
       "         [6.8884586e-12],\n",
       "         ...,\n",
       "         [1.0378220e-12],\n",
       "         [1.7403700e-12],\n",
       "         [6.3730276e-13]],\n",
       "\n",
       "        [[4.0649389e-12],\n",
       "         [9.8214980e-13],\n",
       "         [4.9301101e-12],\n",
       "         ...,\n",
       "         [1.0420076e-11],\n",
       "         [4.7758639e-13],\n",
       "         [1.6141200e-12]],\n",
       "\n",
       "        [[4.3171872e-12],\n",
       "         [7.8639970e-13],\n",
       "         [1.4088512e-07],\n",
       "         ...,\n",
       "         [8.8874330e-09],\n",
       "         [3.4709610e-13],\n",
       "         [2.3790624e-12]],\n",
       "\n",
       "        ...,\n",
       "\n",
       "        [[6.8553594e-13],\n",
       "         [1.1529194e-12],\n",
       "         [5.0582234e-08],\n",
       "         ...,\n",
       "         [7.0445651e-07],\n",
       "         [7.7753532e-07],\n",
       "         [2.2625094e-12]],\n",
       "\n",
       "        [[4.3689687e-12],\n",
       "         [6.4584076e-12],\n",
       "         [2.1213766e-12],\n",
       "         ...,\n",
       "         [4.6686897e-11],\n",
       "         [9.1205342e-13],\n",
       "         [5.2218722e-13]],\n",
       "\n",
       "        [[1.4008907e-12],\n",
       "         [5.9171194e-14],\n",
       "         [1.9874968e-12],\n",
       "         ...,\n",
       "         [5.0011975e-13],\n",
       "         [3.8109929e-13],\n",
       "         [1.1506917e-12]]]], dtype=float32)"
      ]
     },
     "execution_count": 13,
     "metadata": {},
     "output_type": "execute_result"
    }
   ],
   "source": [
    "train_X"
   ]
  },
  {
   "cell_type": "code",
   "execution_count": 14,
   "id": "f02c25c9",
   "metadata": {
    "execution": {
     "iopub.execute_input": "2021-08-04T07:19:11.443532Z",
     "iopub.status.busy": "2021-08-04T07:19:11.442638Z",
     "iopub.status.idle": "2021-08-04T07:19:11.446559Z",
     "shell.execute_reply": "2021-08-04T07:19:11.446022Z",
     "shell.execute_reply.started": "2021-08-04T06:14:34.644125Z"
    },
    "papermill": {
     "duration": 0.454222,
     "end_time": "2021-08-04T07:19:11.446687",
     "exception": false,
     "start_time": "2021-08-04T07:19:10.992465",
     "status": "completed"
    },
    "tags": []
   },
   "outputs": [
    {
     "data": {
      "text/plain": [
       "((48000, 28, 28, 1), (12000, 28, 28, 1), (48000, 10), (12000, 10))"
      ]
     },
     "execution_count": 14,
     "metadata": {},
     "output_type": "execute_result"
    }
   ],
   "source": [
    "train_X.shape,valid_X.shape,train_label.shape,valid_label.shape"
   ]
  },
  {
   "cell_type": "code",
   "execution_count": 15,
   "id": "ca3ed2a6",
   "metadata": {
    "execution": {
     "iopub.execute_input": "2021-08-04T07:19:12.349805Z",
     "iopub.status.busy": "2021-08-04T07:19:12.348870Z",
     "iopub.status.idle": "2021-08-04T07:19:12.351730Z",
     "shell.execute_reply": "2021-08-04T07:19:12.351233Z",
     "shell.execute_reply.started": "2021-08-04T06:14:34.651030Z"
    },
    "papermill": {
     "duration": 0.457576,
     "end_time": "2021-08-04T07:19:12.351865",
     "exception": false,
     "start_time": "2021-08-04T07:19:11.894289",
     "status": "completed"
    },
    "tags": []
   },
   "outputs": [],
   "source": [
    "batch_size = 64\n",
    "epochs = 20\n",
    "num_classes = 10"
   ]
  },
  {
   "cell_type": "code",
   "execution_count": 16,
   "id": "6c28cb60",
   "metadata": {
    "execution": {
     "iopub.execute_input": "2021-08-04T07:19:13.255159Z",
     "iopub.status.busy": "2021-08-04T07:19:13.254139Z",
     "iopub.status.idle": "2021-08-04T07:19:13.328617Z",
     "shell.execute_reply": "2021-08-04T07:19:13.329179Z",
     "shell.execute_reply.started": "2021-08-04T06:14:34.663935Z"
    },
    "papermill": {
     "duration": 0.534244,
     "end_time": "2021-08-04T07:19:13.329418",
     "exception": false,
     "start_time": "2021-08-04T07:19:12.795174",
     "status": "completed"
    },
    "tags": []
   },
   "outputs": [],
   "source": [
    "model_ = Sequential()\n",
    "model_.add(Conv2D(32, kernel_size=(3, 3),activation='linear',input_shape=(28,28,1),padding='same'))\n",
    "model_.add(LeakyReLU(alpha=0.1))\n",
    "model_.add(MaxPooling2D((2, 2),padding='same'))\n",
    "model_.add(Conv2D(64, (3, 3), activation='linear',padding='same'))\n",
    "model_.add(LeakyReLU(alpha=0.1))\n",
    "model_.add(MaxPooling2D(pool_size=(2, 2),padding='same'))\n",
    "model_.add(Conv2D(128, (3, 3), activation='linear',padding='same'))\n",
    "model_.add(LeakyReLU(alpha=0.1))                  \n",
    "model_.add(MaxPooling2D(pool_size=(2, 2),padding='same'))\n",
    "model_.add(Flatten())\n",
    "model_.add(Dense(128, activation='linear'))\n",
    "model_.add(LeakyReLU(alpha=0.1))                  \n",
    "model_.add(Dense(num_classes, activation='softmax'))"
   ]
  },
  {
   "cell_type": "code",
   "execution_count": 17,
   "id": "a837da53",
   "metadata": {
    "execution": {
     "iopub.execute_input": "2021-08-04T07:19:14.231369Z",
     "iopub.status.busy": "2021-08-04T07:19:14.230762Z",
     "iopub.status.idle": "2021-08-04T07:19:14.241255Z",
     "shell.execute_reply": "2021-08-04T07:19:14.240781Z",
     "shell.execute_reply.started": "2021-08-04T06:14:34.755285Z"
    },
    "papermill": {
     "duration": 0.45872,
     "end_time": "2021-08-04T07:19:14.241405",
     "exception": false,
     "start_time": "2021-08-04T07:19:13.782685",
     "status": "completed"
    },
    "tags": []
   },
   "outputs": [
    {
     "name": "stdout",
     "output_type": "stream",
     "text": [
      "Model: \"sequential\"\n",
      "_________________________________________________________________\n",
      "Layer (type)                 Output Shape              Param #   \n",
      "=================================================================\n",
      "conv2d (Conv2D)              (None, 28, 28, 32)        320       \n",
      "_________________________________________________________________\n",
      "leaky_re_lu (LeakyReLU)      (None, 28, 28, 32)        0         \n",
      "_________________________________________________________________\n",
      "max_pooling2d (MaxPooling2D) (None, 14, 14, 32)        0         \n",
      "_________________________________________________________________\n",
      "conv2d_1 (Conv2D)            (None, 14, 14, 64)        18496     \n",
      "_________________________________________________________________\n",
      "leaky_re_lu_1 (LeakyReLU)    (None, 14, 14, 64)        0         \n",
      "_________________________________________________________________\n",
      "max_pooling2d_1 (MaxPooling2 (None, 7, 7, 64)          0         \n",
      "_________________________________________________________________\n",
      "conv2d_2 (Conv2D)            (None, 7, 7, 128)         73856     \n",
      "_________________________________________________________________\n",
      "leaky_re_lu_2 (LeakyReLU)    (None, 7, 7, 128)         0         \n",
      "_________________________________________________________________\n",
      "max_pooling2d_2 (MaxPooling2 (None, 4, 4, 128)         0         \n",
      "_________________________________________________________________\n",
      "flatten (Flatten)            (None, 2048)              0         \n",
      "_________________________________________________________________\n",
      "dense_2 (Dense)              (None, 128)               262272    \n",
      "_________________________________________________________________\n",
      "leaky_re_lu_3 (LeakyReLU)    (None, 128)               0         \n",
      "_________________________________________________________________\n",
      "dense_3 (Dense)              (None, 10)                1290      \n",
      "=================================================================\n",
      "Total params: 356,234\n",
      "Trainable params: 356,234\n",
      "Non-trainable params: 0\n",
      "_________________________________________________________________\n"
     ]
    }
   ],
   "source": [
    "model_.summary()"
   ]
  },
  {
   "cell_type": "code",
   "execution_count": 18,
   "id": "06638b34",
   "metadata": {
    "execution": {
     "iopub.execute_input": "2021-08-04T07:19:15.161334Z",
     "iopub.status.busy": "2021-08-04T07:19:15.160692Z",
     "iopub.status.idle": "2021-08-04T07:19:15.164770Z",
     "shell.execute_reply": "2021-08-04T07:19:15.165278Z",
     "shell.execute_reply.started": "2021-08-04T06:14:34.768137Z"
    },
    "papermill": {
     "duration": 0.460131,
     "end_time": "2021-08-04T07:19:15.165456",
     "exception": false,
     "start_time": "2021-08-04T07:19:14.705325",
     "status": "completed"
    },
    "tags": []
   },
   "outputs": [],
   "source": [
    "model_.compile(loss=keras.losses.categorical_crossentropy, optimizer=keras.optimizers.Adam(),metrics=['accuracy'])"
   ]
  },
  {
   "cell_type": "code",
   "execution_count": 19,
   "id": "a0f487cd",
   "metadata": {
    "execution": {
     "iopub.execute_input": "2021-08-04T07:19:16.049806Z",
     "iopub.status.busy": "2021-08-04T07:19:16.049173Z",
     "iopub.status.idle": "2021-08-04T07:34:20.579548Z",
     "shell.execute_reply": "2021-08-04T07:34:20.578955Z",
     "shell.execute_reply.started": "2021-08-04T06:14:34.786022Z"
    },
    "papermill": {
     "duration": 904.973721,
     "end_time": "2021-08-04T07:34:20.579715",
     "exception": false,
     "start_time": "2021-08-04T07:19:15.605994",
     "status": "completed"
    },
    "tags": []
   },
   "outputs": [
    {
     "name": "stdout",
     "output_type": "stream",
     "text": [
      "Epoch 1/20\n",
      "750/750 [==============================] - 45s 59ms/step - loss: 0.4208 - accuracy: 0.8655 - val_loss: 0.0873 - val_accuracy: 0.9728\n",
      "Epoch 2/20\n",
      "750/750 [==============================] - 44s 58ms/step - loss: 0.0762 - accuracy: 0.9766 - val_loss: 0.0636 - val_accuracy: 0.9803\n",
      "Epoch 3/20\n",
      "750/750 [==============================] - 45s 59ms/step - loss: 0.0528 - accuracy: 0.9833 - val_loss: 0.0723 - val_accuracy: 0.9797\n",
      "Epoch 4/20\n",
      "750/750 [==============================] - 44s 59ms/step - loss: 0.0424 - accuracy: 0.9863 - val_loss: 0.0634 - val_accuracy: 0.9812\n",
      "Epoch 5/20\n",
      "750/750 [==============================] - 44s 58ms/step - loss: 0.0302 - accuracy: 0.9900 - val_loss: 0.0801 - val_accuracy: 0.9768\n",
      "Epoch 6/20\n",
      "750/750 [==============================] - 45s 60ms/step - loss: 0.0295 - accuracy: 0.9903 - val_loss: 0.0653 - val_accuracy: 0.9811\n",
      "Epoch 7/20\n",
      "750/750 [==============================] - 45s 60ms/step - loss: 0.0218 - accuracy: 0.9932 - val_loss: 0.0784 - val_accuracy: 0.9793\n",
      "Epoch 8/20\n",
      "750/750 [==============================] - 45s 60ms/step - loss: 0.0198 - accuracy: 0.9935 - val_loss: 0.0647 - val_accuracy: 0.9827\n",
      "Epoch 9/20\n",
      "750/750 [==============================] - 46s 61ms/step - loss: 0.0155 - accuracy: 0.9948 - val_loss: 0.0699 - val_accuracy: 0.9818\n",
      "Epoch 10/20\n",
      "750/750 [==============================] - 45s 60ms/step - loss: 0.0142 - accuracy: 0.9951 - val_loss: 0.0612 - val_accuracy: 0.9847\n",
      "Epoch 11/20\n",
      "750/750 [==============================] - 45s 60ms/step - loss: 0.0090 - accuracy: 0.9965 - val_loss: 0.0694 - val_accuracy: 0.9841\n",
      "Epoch 12/20\n",
      "750/750 [==============================] - 46s 61ms/step - loss: 0.0091 - accuracy: 0.9971 - val_loss: 0.0683 - val_accuracy: 0.9858\n",
      "Epoch 13/20\n",
      "750/750 [==============================] - 46s 61ms/step - loss: 0.0095 - accuracy: 0.9972 - val_loss: 0.0745 - val_accuracy: 0.9854\n",
      "Epoch 14/20\n",
      "750/750 [==============================] - 46s 61ms/step - loss: 0.0101 - accuracy: 0.9962 - val_loss: 0.0790 - val_accuracy: 0.9833\n",
      "Epoch 15/20\n",
      "750/750 [==============================] - 46s 61ms/step - loss: 0.0059 - accuracy: 0.9981 - val_loss: 0.0921 - val_accuracy: 0.9814\n",
      "Epoch 16/20\n",
      "750/750 [==============================] - 47s 63ms/step - loss: 0.0109 - accuracy: 0.9963 - val_loss: 0.0765 - val_accuracy: 0.9846\n",
      "Epoch 17/20\n",
      "750/750 [==============================] - 46s 61ms/step - loss: 0.0071 - accuracy: 0.9976 - val_loss: 0.0855 - val_accuracy: 0.9823\n",
      "Epoch 18/20\n",
      "750/750 [==============================] - 46s 61ms/step - loss: 0.0103 - accuracy: 0.9973 - val_loss: 0.0759 - val_accuracy: 0.9849\n",
      "Epoch 19/20\n",
      "750/750 [==============================] - 46s 61ms/step - loss: 0.0071 - accuracy: 0.9974 - val_loss: 0.0987 - val_accuracy: 0.9833\n",
      "Epoch 20/20\n",
      "750/750 [==============================] - 45s 60ms/step - loss: 0.0074 - accuracy: 0.9974 - val_loss: 0.0854 - val_accuracy: 0.9836\n"
     ]
    }
   ],
   "source": [
    "mnist_train = model_.fit(train_X, train_label, batch_size=batch_size,epochs=epochs,verbose=1,validation_data=(valid_X, valid_label))"
   ]
  },
  {
   "cell_type": "code",
   "execution_count": 20,
   "id": "83c80092",
   "metadata": {
    "execution": {
     "iopub.execute_input": "2021-08-04T07:34:30.521388Z",
     "iopub.status.busy": "2021-08-04T07:34:30.520396Z",
     "iopub.status.idle": "2021-08-04T07:34:33.581857Z",
     "shell.execute_reply": "2021-08-04T07:34:33.581095Z",
     "shell.execute_reply.started": "2021-08-04T06:28:24.625753Z"
    },
    "papermill": {
     "duration": 8.045878,
     "end_time": "2021-08-04T07:34:33.582065",
     "exception": false,
     "start_time": "2021-08-04T07:34:25.536187",
     "status": "completed"
    },
    "tags": []
   },
   "outputs": [
    {
     "name": "stdout",
     "output_type": "stream",
     "text": [
      "[0.08566199243068695, 0.9857000112533569]\n"
     ]
    }
   ],
   "source": [
    "test_eval = model_.evaluate(test_X, test_Y_one_hot, verbose=0)\n",
    "print(test_eval)"
   ]
  },
  {
   "cell_type": "code",
   "execution_count": 21,
   "id": "bf38aea8",
   "metadata": {
    "execution": {
     "iopub.execute_input": "2021-08-04T07:34:43.495789Z",
     "iopub.status.busy": "2021-08-04T07:34:43.494767Z",
     "iopub.status.idle": "2021-08-04T07:34:43.849319Z",
     "shell.execute_reply": "2021-08-04T07:34:43.849755Z",
     "shell.execute_reply.started": "2021-08-04T06:28:27.625695Z"
    },
    "papermill": {
     "duration": 5.355762,
     "end_time": "2021-08-04T07:34:43.849921",
     "exception": false,
     "start_time": "2021-08-04T07:34:38.494159",
     "status": "completed"
    },
    "tags": []
   },
   "outputs": [
    {
     "data": {
      "image/png": "[encoded data removed]",
      "text/plain": [
       "<Figure size 432x288 with 1 Axes>"
      ]
     },
     "metadata": {
      "needs_background": "light"
     },
     "output_type": "display_data"
    },
    {
     "data": {
      "image/png": "[encoded data removed]",
      "text/plain": [
       "<Figure size 432x288 with 1 Axes>"
      ]
     },
     "metadata": {
      "needs_background": "light"
     },
     "output_type": "display_data"
    }
   ],
   "source": [
    "accuracy = mnist_train.history['accuracy']\n",
    "val_accuracy = mnist_train.history['val_accuracy']\n",
    "loss = mnist_train.history['loss']\n",
    "val_loss = mnist_train.history['val_loss']\n",
    "epochs = range(len(accuracy))\n",
    "plt.plot(epochs, accuracy, 'go', label='Training accuracy', alpha = 0.5)\n",
    "plt.plot(epochs, val_accuracy, 'g', label='Validation accuracy')\n",
    "plt.title('Training and validation accuracy')\n",
    "plt.legend()\n",
    "plt.figure()\n",
    "plt.plot(epochs, loss, 'go', label='Training loss', alpha = 0.5)\n",
    "plt.plot(epochs, val_loss, 'g', label='Validation loss')\n",
    "plt.title('Training and validation loss')\n",
    "plt.legend()\n",
    "plt.show()"
   ]
  },
  {
   "cell_type": "code",
   "execution_count": 22,
   "id": "d7ffab3e",
   "metadata": {
    "execution": {
     "iopub.execute_input": "2021-08-04T07:34:53.813600Z",
     "iopub.status.busy": "2021-08-04T07:34:53.812160Z",
     "iopub.status.idle": "2021-08-04T07:34:53.814306Z",
     "shell.execute_reply": "2021-08-04T07:34:53.814789Z",
     "shell.execute_reply.started": "2021-08-04T06:42:04.568156Z"
    },
    "papermill": {
     "duration": 4.972333,
     "end_time": "2021-08-04T07:34:53.814965",
     "exception": false,
     "start_time": "2021-08-04T07:34:48.842632",
     "status": "completed"
    },
    "tags": []
   },
   "outputs": [],
   "source": [
    "batch_size = 64\n",
    "epochs = 20\n",
    "num_classes = 10"
   ]
  },
  {
   "cell_type": "code",
   "execution_count": 23,
   "id": "815d2daf",
   "metadata": {
    "execution": {
     "iopub.execute_input": "2021-08-04T07:35:03.845066Z",
     "iopub.status.busy": "2021-08-04T07:35:03.844239Z",
     "iopub.status.idle": "2021-08-04T07:35:03.944495Z",
     "shell.execute_reply": "2021-08-04T07:35:03.945042Z",
     "shell.execute_reply.started": "2021-08-04T06:42:06.610822Z"
    },
    "papermill": {
     "duration": 5.237851,
     "end_time": "2021-08-04T07:35:03.945209",
     "exception": false,
     "start_time": "2021-08-04T07:34:58.707358",
     "status": "completed"
    },
    "tags": []
   },
   "outputs": [],
   "source": [
    "model_ = Sequential()\n",
    "model_.add(Conv2D(32, kernel_size=(3, 3),activation='linear',padding='same',input_shape=(28,28,1)))\n",
    "model_.add(LeakyReLU(alpha=0.1))\n",
    "model_.add(MaxPooling2D((2, 2),padding='same'))\n",
    "model_.add(Dropout(0.25))\n",
    "model_.add(Conv2D(64, (3, 3), activation='linear',padding='same'))\n",
    "model_.add(LeakyReLU(alpha=0.1))\n",
    "model_.add(MaxPooling2D(pool_size=(2, 2),padding='same'))\n",
    "model_.add(Dropout(0.25))\n",
    "model_.add(Conv2D(128, (3, 3), activation='linear',padding='same'))\n",
    "model_.add(LeakyReLU(alpha=0.1))                  \n",
    "model_.add(MaxPooling2D(pool_size=(2, 2),padding='same'))\n",
    "model_.add(Dropout(0.4))\n",
    "model_.add(Flatten())\n",
    "model_.add(Dense(128, activation='linear'))\n",
    "model_.add(LeakyReLU(alpha=0.1))           \n",
    "model_.add(Dropout(0.3))\n",
    "model_.add(Dense(num_classes, activation='softmax'))"
   ]
  },
  {
   "cell_type": "code",
   "execution_count": 24,
   "id": "e8a9a35e",
   "metadata": {
    "execution": {
     "iopub.execute_input": "2021-08-04T07:35:13.909654Z",
     "iopub.status.busy": "2021-08-04T07:35:13.908988Z",
     "iopub.status.idle": "2021-08-04T07:35:13.920561Z",
     "shell.execute_reply": "2021-08-04T07:35:13.919908Z",
     "shell.execute_reply.started": "2021-08-04T06:42:09.219985Z"
    },
    "papermill": {
     "duration": 4.97327,
     "end_time": "2021-08-04T07:35:13.920698",
     "exception": false,
     "start_time": "2021-08-04T07:35:08.947428",
     "status": "completed"
    },
    "tags": []
   },
   "outputs": [
    {
     "name": "stdout",
     "output_type": "stream",
     "text": [
      "Model: \"sequential_1\"\n",
      "_________________________________________________________________\n",
      "Layer (type)                 Output Shape              Param #   \n",
      "=================================================================\n",
      "conv2d_3 (Conv2D)            (None, 28, 28, 32)        320       \n",
      "_________________________________________________________________\n",
      "leaky_re_lu_4 (LeakyReLU)    (None, 28, 28, 32)        0         \n",
      "_________________________________________________________________\n",
      "max_pooling2d_3 (MaxPooling2 (None, 14, 14, 32)        0         \n",
      "_________________________________________________________________\n",
      "dropout (Dropout)            (None, 14, 14, 32)        0         \n",
      "_________________________________________________________________\n",
      "conv2d_4 (Conv2D)            (None, 14, 14, 64)        18496     \n",
      "_________________________________________________________________\n",
      "leaky_re_lu_5 (LeakyReLU)    (None, 14, 14, 64)        0         \n",
      "_________________________________________________________________\n",
      "max_pooling2d_4 (MaxPooling2 (None, 7, 7, 64)          0         \n",
      "_________________________________________________________________\n",
      "dropout_1 (Dropout)          (None, 7, 7, 64)          0         \n",
      "_________________________________________________________________\n",
      "conv2d_5 (Conv2D)            (None, 7, 7, 128)         73856     \n",
      "_________________________________________________________________\n",
      "leaky_re_lu_6 (LeakyReLU)    (None, 7, 7, 128)         0         \n",
      "_________________________________________________________________\n",
      "max_pooling2d_5 (MaxPooling2 (None, 4, 4, 128)         0         \n",
      "_________________________________________________________________\n",
      "dropout_2 (Dropout)          (None, 4, 4, 128)         0         \n",
      "_________________________________________________________________\n",
      "flatten_1 (Flatten)          (None, 2048)              0         \n",
      "_________________________________________________________________\n",
      "dense_4 (Dense)              (None, 128)               262272    \n",
      "_________________________________________________________________\n",
      "leaky_re_lu_7 (LeakyReLU)    (None, 128)               0         \n",
      "_________________________________________________________________\n",
      "dropout_3 (Dropout)          (None, 128)               0         \n",
      "_________________________________________________________________\n",
      "dense_5 (Dense)              (None, 10)                1290      \n",
      "=================================================================\n",
      "Total params: 356,234\n",
      "Trainable params: 356,234\n",
      "Non-trainable params: 0\n",
      "_________________________________________________________________\n"
     ]
    }
   ],
   "source": [
    "model_.summary()"
   ]
  },
  {
   "cell_type": "code",
   "execution_count": 25,
   "id": "52c7dac2",
   "metadata": {
    "execution": {
     "iopub.execute_input": "2021-08-04T07:35:24.065678Z",
     "iopub.status.busy": "2021-08-04T07:35:24.064591Z",
     "iopub.status.idle": "2021-08-04T07:35:24.069729Z",
     "shell.execute_reply": "2021-08-04T07:35:24.069184Z",
     "shell.execute_reply.started": "2021-08-04T06:42:15.203774Z"
    },
    "papermill": {
     "duration": 5.144922,
     "end_time": "2021-08-04T07:35:24.069887",
     "exception": false,
     "start_time": "2021-08-04T07:35:18.924965",
     "status": "completed"
    },
    "tags": []
   },
   "outputs": [],
   "source": [
    "model_.compile(loss=keras.losses.categorical_crossentropy, optimizer=keras.optimizers.Adam(),metrics=['accuracy'])"
   ]
  },
  {
   "cell_type": "code",
   "execution_count": 26,
   "id": "14ed9e1a",
   "metadata": {
    "execution": {
     "iopub.execute_input": "2021-08-04T07:35:34.417028Z",
     "iopub.status.busy": "2021-08-04T07:35:34.416285Z",
     "iopub.status.idle": "2021-08-04T07:51:33.674010Z",
     "shell.execute_reply": "2021-08-04T07:51:33.673291Z",
     "shell.execute_reply.started": "2021-08-04T06:42:19.320877Z"
    },
    "papermill": {
     "duration": 964.292154,
     "end_time": "2021-08-04T07:51:33.674157",
     "exception": false,
     "start_time": "2021-08-04T07:35:29.382003",
     "status": "completed"
    },
    "tags": []
   },
   "outputs": [
    {
     "name": "stdout",
     "output_type": "stream",
     "text": [
      "Epoch 1/20\n",
      "750/750 [==============================] - 47s 62ms/step - loss: 0.6491 - accuracy: 0.7786 - val_loss: 0.1276 - val_accuracy: 0.9621\n",
      "Epoch 2/20\n",
      "750/750 [==============================] - 49s 65ms/step - loss: 0.1400 - accuracy: 0.9569 - val_loss: 0.0764 - val_accuracy: 0.9764\n",
      "Epoch 3/20\n",
      "750/750 [==============================] - 48s 64ms/step - loss: 0.1047 - accuracy: 0.9674 - val_loss: 0.0670 - val_accuracy: 0.9787\n",
      "Epoch 4/20\n",
      "750/750 [==============================] - 47s 62ms/step - loss: 0.0898 - accuracy: 0.9719 - val_loss: 0.0731 - val_accuracy: 0.9753\n",
      "Epoch 5/20\n",
      "750/750 [==============================] - 49s 66ms/step - loss: 0.0834 - accuracy: 0.9746 - val_loss: 0.0599 - val_accuracy: 0.9827\n",
      "Epoch 6/20\n",
      "750/750 [==============================] - 48s 64ms/step - loss: 0.0725 - accuracy: 0.9772 - val_loss: 0.0585 - val_accuracy: 0.9828\n",
      "Epoch 7/20\n",
      "750/750 [==============================] - 46s 61ms/step - loss: 0.0687 - accuracy: 0.9774 - val_loss: 0.0514 - val_accuracy: 0.9843\n",
      "Epoch 8/20\n",
      "750/750 [==============================] - 49s 65ms/step - loss: 0.0646 - accuracy: 0.9799 - val_loss: 0.0531 - val_accuracy: 0.9843\n",
      "Epoch 9/20\n",
      "750/750 [==============================] - 48s 64ms/step - loss: 0.0604 - accuracy: 0.9803 - val_loss: 0.0532 - val_accuracy: 0.9850\n",
      "Epoch 10/20\n",
      "750/750 [==============================] - 46s 62ms/step - loss: 0.0570 - accuracy: 0.9814 - val_loss: 0.0527 - val_accuracy: 0.9833\n",
      "Epoch 11/20\n",
      "750/750 [==============================] - 49s 65ms/step - loss: 0.0530 - accuracy: 0.9830 - val_loss: 0.0502 - val_accuracy: 0.9847\n",
      "Epoch 12/20\n",
      "750/750 [==============================] - 48s 65ms/step - loss: 0.0538 - accuracy: 0.9828 - val_loss: 0.0479 - val_accuracy: 0.9851\n",
      "Epoch 13/20\n",
      "750/750 [==============================] - 46s 61ms/step - loss: 0.0513 - accuracy: 0.9828 - val_loss: 0.0492 - val_accuracy: 0.9852\n",
      "Epoch 14/20\n",
      "750/750 [==============================] - 49s 65ms/step - loss: 0.0509 - accuracy: 0.9846 - val_loss: 0.0493 - val_accuracy: 0.9854\n",
      "Epoch 15/20\n",
      "750/750 [==============================] - 49s 66ms/step - loss: 0.0484 - accuracy: 0.9845 - val_loss: 0.0507 - val_accuracy: 0.9855\n",
      "Epoch 16/20\n",
      "750/750 [==============================] - 46s 62ms/step - loss: 0.0482 - accuracy: 0.9848 - val_loss: 0.0499 - val_accuracy: 0.9868\n",
      "Epoch 17/20\n",
      "750/750 [==============================] - 50s 67ms/step - loss: 0.0447 - accuracy: 0.9843 - val_loss: 0.0499 - val_accuracy: 0.9862\n",
      "Epoch 18/20\n",
      "750/750 [==============================] - 46s 61ms/step - loss: 0.0436 - accuracy: 0.9854 - val_loss: 0.0476 - val_accuracy: 0.9877\n",
      "Epoch 19/20\n",
      "750/750 [==============================] - 47s 62ms/step - loss: 0.0417 - accuracy: 0.9851 - val_loss: 0.0471 - val_accuracy: 0.9865\n",
      "Epoch 20/20\n",
      "750/750 [==============================] - 51s 68ms/step - loss: 0.0398 - accuracy: 0.9864 - val_loss: 0.0486 - val_accuracy: 0.9871\n"
     ]
    }
   ],
   "source": [
    "mnist_train_dropout = model_.fit(train_X, train_label, batch_size=batch_size,epochs=epochs,verbose=1,validation_data=(valid_X, valid_label))"
   ]
  },
  {
   "cell_type": "code",
   "execution_count": 27,
   "id": "43f6269b",
   "metadata": {
    "execution": {
     "iopub.execute_input": "2021-08-04T07:51:52.893716Z",
     "iopub.status.busy": "2021-08-04T07:51:52.893049Z",
     "iopub.status.idle": "2021-08-04T07:51:55.932078Z",
     "shell.execute_reply": "2021-08-04T07:51:55.931533Z",
     "shell.execute_reply.started": "2021-08-04T06:57:09.396790Z"
    },
    "papermill": {
     "duration": 12.577875,
     "end_time": "2021-08-04T07:51:55.932217",
     "exception": false,
     "start_time": "2021-08-04T07:51:43.354342",
     "status": "completed"
    },
    "tags": []
   },
   "outputs": [
    {
     "name": "stdout",
     "output_type": "stream",
     "text": [
      "[0.0405636690557003, 0.9869999885559082]\n"
     ]
    }
   ],
   "source": [
    "test_eval = model_.evaluate(test_X, test_Y_one_hot, verbose=0)\n",
    "print(test_eval)"
   ]
  },
  {
   "cell_type": "code",
   "execution_count": 28,
   "id": "be77cf2a",
   "metadata": {
    "execution": {
     "iopub.execute_input": "2021-08-04T07:52:15.399420Z",
     "iopub.status.busy": "2021-08-04T07:52:15.366655Z",
     "iopub.status.idle": "2021-08-04T07:52:15.677287Z",
     "shell.execute_reply": "2021-08-04T07:52:15.677775Z",
     "shell.execute_reply.started": "2021-08-04T06:57:18.106596Z"
    },
    "papermill": {
     "duration": 9.997532,
     "end_time": "2021-08-04T07:52:15.677952",
     "exception": false,
     "start_time": "2021-08-04T07:52:05.680420",
     "status": "completed"
    },
    "tags": []
   },
   "outputs": [
    {
     "data": {
      "image/png": "[encoded data removed]",
      "text/plain": [
       "<Figure size 432x288 with 1 Axes>"
      ]
     },
     "metadata": {
      "needs_background": "light"
     },
     "output_type": "display_data"
    },
    {
     "data": {
      "image/png": "[encoded data removed]",
      "text/plain": [
       "<Figure size 432x288 with 1 Axes>"
      ]
     },
     "metadata": {
      "needs_background": "light"
     },
     "output_type": "display_data"
    }
   ],
   "source": [
    "accuracy = mnist_train_dropout.history['accuracy']\n",
    "val_accuracy = mnist_train_dropout.history['val_accuracy']\n",
    "loss = mnist_train_dropout.history['loss']\n",
    "val_loss = mnist_train_dropout.history['val_loss']\n",
    "epochs = range(len(accuracy))\n",
    "plt.plot(epochs, accuracy, 'go', label='Training accuracy', alpha = 0.5)\n",
    "plt.plot(epochs, val_accuracy, 'g', label='Validation accuracy')\n",
    "plt.title('Training and validation accuracy')\n",
    "plt.legend()\n",
    "plt.figure()\n",
    "plt.plot(epochs, loss, 'go', label='Training loss', alpha = 0.5)\n",
    "plt.plot(epochs, val_loss, 'g', label='Validation loss')\n",
    "plt.title('Training and validation loss')\n",
    "plt.legend()\n",
    "plt.show()"
   ]
  },
  {
   "cell_type": "code",
   "execution_count": 29,
   "id": "7a46f89e",
   "metadata": {
    "execution": {
     "iopub.execute_input": "2021-08-04T07:52:34.744897Z",
     "iopub.status.busy": "2021-08-04T07:52:34.744321Z",
     "iopub.status.idle": "2021-08-04T07:52:37.749374Z",
     "shell.execute_reply": "2021-08-04T07:52:37.749848Z",
     "shell.execute_reply.started": "2021-08-04T06:57:24.336021Z"
    },
    "papermill": {
     "duration": 12.635365,
     "end_time": "2021-08-04T07:52:37.750018",
     "exception": false,
     "start_time": "2021-08-04T07:52:25.114653",
     "status": "completed"
    },
    "tags": []
   },
   "outputs": [
    {
     "name": "stdout",
     "output_type": "stream",
     "text": [
      "              precision    recall  f1-score   support\n",
      "\n",
      "     Class 0       0.97      0.99      0.98       980\n",
      "     Class 1       0.99      0.99      0.99      1135\n",
      "     Class 2       0.99      0.99      0.99      1032\n",
      "     Class 3       0.99      0.98      0.99      1010\n",
      "     Class 4       0.99      0.99      0.99       982\n",
      "     Class 5       0.97      0.99      0.98       892\n",
      "     Class 6       0.99      0.99      0.99       958\n",
      "     Class 7       0.98      0.99      0.98      1028\n",
      "     Class 8       0.99      0.98      0.98       974\n",
      "     Class 9       0.99      0.98      0.98      1009\n",
      "\n",
      "    accuracy                           0.99     10000\n",
      "   macro avg       0.99      0.99      0.99     10000\n",
      "weighted avg       0.99      0.99      0.99     10000\n",
      "\n"
     ]
    }
   ],
   "source": [
    "predicted_classes = model_.predict(test_X)\n",
    "predicted_classes = np.argmax(np.round(predicted_classes),axis=1)\n",
    "\n",
    "target_names = [\"Class {}\".format(i) for i in range(num_classes)]\n",
    "print(classification_report(test_y, predicted_classes, target_names=target_names))"
   ]
  },
  {
   "cell_type": "code",
   "execution_count": 30,
   "id": "27ebcf5c",
   "metadata": {
    "execution": {
     "iopub.execute_input": "2021-08-04T07:52:56.542780Z",
     "iopub.status.busy": "2021-08-04T07:52:56.542041Z",
     "iopub.status.idle": "2021-08-04T07:52:58.732046Z",
     "shell.execute_reply": "2021-08-04T07:52:58.731368Z"
    },
    "papermill": {
     "duration": 11.634959,
     "end_time": "2021-08-04T07:52:58.732185",
     "exception": false,
     "start_time": "2021-08-04T07:52:47.097226",
     "status": "completed"
    },
    "tags": []
   },
   "outputs": [],
   "source": [
    "model_.save(\"model_mnist.h5py\")"
   ]
  },
  {
   "cell_type": "code",
   "execution_count": 31,
   "id": "40271e62",
   "metadata": {
    "execution": {
     "iopub.execute_input": "2021-08-04T07:53:17.477650Z",
     "iopub.status.busy": "2021-08-04T07:53:17.476666Z",
     "iopub.status.idle": "2021-08-04T07:53:17.478499Z",
     "shell.execute_reply": "2021-08-04T07:53:17.479251Z",
     "shell.execute_reply.started": "2021-08-04T06:57:36.047372Z"
    },
    "papermill": {
     "duration": 9.324515,
     "end_time": "2021-08-04T07:53:17.479532",
     "exception": false,
     "start_time": "2021-08-04T07:53:08.155017",
     "status": "completed"
    },
    "tags": []
   },
   "outputs": [],
   "source": [
    "import pandas as pd"
   ]
  },
  {
   "cell_type": "code",
   "execution_count": 32,
   "id": "dc1a881b",
   "metadata": {
    "execution": {
     "iopub.execute_input": "2021-08-04T07:53:36.188351Z",
     "iopub.status.busy": "2021-08-04T07:53:36.187653Z",
     "iopub.status.idle": "2021-08-04T07:53:38.907749Z",
     "shell.execute_reply": "2021-08-04T07:53:38.907089Z",
     "shell.execute_reply.started": "2021-08-04T06:58:14.009339Z"
    },
    "papermill": {
     "duration": 12.012979,
     "end_time": "2021-08-04T07:53:38.907888",
     "exception": false,
     "start_time": "2021-08-04T07:53:26.894909",
     "status": "completed"
    },
    "tags": []
   },
   "outputs": [],
   "source": [
    "testing_data = pd.read_csv('../input/digit-recognizer/test.csv')"
   ]
  },
  {
   "cell_type": "code",
   "execution_count": 33,
   "id": "05ffc4ba",
   "metadata": {
    "execution": {
     "iopub.execute_input": "2021-08-04T07:53:57.981492Z",
     "iopub.status.busy": "2021-08-04T07:53:57.980849Z",
     "iopub.status.idle": "2021-08-04T07:53:58.356761Z",
     "shell.execute_reply": "2021-08-04T07:53:58.356160Z",
     "shell.execute_reply.started": "2021-08-04T07:05:19.099669Z"
    },
    "papermill": {
     "duration": 10.111822,
     "end_time": "2021-08-04T07:53:58.356907",
     "exception": false,
     "start_time": "2021-08-04T07:53:48.245085",
     "status": "completed"
    },
    "tags": []
   },
   "outputs": [],
   "source": [
    "testing_data = np.array(testing_data).reshape(-1,28,28,1);"
   ]
  },
  {
   "cell_type": "code",
   "execution_count": 34,
   "id": "f441e705",
   "metadata": {
    "execution": {
     "iopub.execute_input": "2021-08-04T07:54:17.359447Z",
     "iopub.status.busy": "2021-08-04T07:54:17.358190Z",
     "iopub.status.idle": "2021-08-04T07:54:26.196004Z",
     "shell.execute_reply": "2021-08-04T07:54:26.195412Z",
     "shell.execute_reply.started": "2021-08-04T07:10:53.212090Z"
    },
    "papermill": {
     "duration": 18.36265,
     "end_time": "2021-08-04T07:54:26.196142",
     "exception": false,
     "start_time": "2021-08-04T07:54:07.833492",
     "status": "completed"
    },
    "tags": []
   },
   "outputs": [],
   "source": [
    "predicted_classes = model_.predict(testing_data)\n",
    "predicted_classes = np.argmax(np.round(predicted_classes),axis=1)"
   ]
  },
  {
   "cell_type": "code",
   "execution_count": 35,
   "id": "6cc2b962",
   "metadata": {
    "execution": {
     "iopub.execute_input": "2021-08-04T07:54:44.879141Z",
     "iopub.status.busy": "2021-08-04T07:54:44.878274Z",
     "iopub.status.idle": "2021-08-04T07:54:44.881215Z",
     "shell.execute_reply": "2021-08-04T07:54:44.881714Z",
     "shell.execute_reply.started": "2021-08-04T07:11:30.090331Z"
    },
    "papermill": {
     "duration": 9.352985,
     "end_time": "2021-08-04T07:54:44.881876",
     "exception": false,
     "start_time": "2021-08-04T07:54:35.528891",
     "status": "completed"
    },
    "tags": []
   },
   "outputs": [],
   "source": [
    "predicted_classes = pd.DataFrame(predicted_classes, columns=['Label'])"
   ]
  },
  {
   "cell_type": "code",
   "execution_count": 36,
   "id": "ea62df47",
   "metadata": {
    "execution": {
     "iopub.execute_input": "2021-08-04T07:55:04.050873Z",
     "iopub.status.busy": "2021-08-04T07:55:04.049905Z",
     "iopub.status.idle": "2021-08-04T07:55:04.076983Z",
     "shell.execute_reply": "2021-08-04T07:55:04.076434Z",
     "shell.execute_reply.started": "2021-08-04T07:12:55.027156Z"
    },
    "papermill": {
     "duration": 9.559277,
     "end_time": "2021-08-04T07:55:04.077135",
     "exception": false,
     "start_time": "2021-08-04T07:54:54.517858",
     "status": "completed"
    },
    "tags": []
   },
   "outputs": [],
   "source": [
    "predicted_classes['ImageId'] = [i for i in range(1, len(predicted_classes.Label)+1)]"
   ]
  },
  {
   "cell_type": "code",
   "execution_count": 37,
   "id": "f63cc19c",
   "metadata": {
    "execution": {
     "iopub.execute_input": "2021-08-04T07:55:23.139248Z",
     "iopub.status.busy": "2021-08-04T07:55:23.138632Z",
     "iopub.status.idle": "2021-08-04T07:55:23.145069Z",
     "shell.execute_reply": "2021-08-04T07:55:23.144590Z",
     "shell.execute_reply.started": "2021-08-04T07:14:28.709595Z"
    },
    "papermill": {
     "duration": 9.521091,
     "end_time": "2021-08-04T07:55:23.145204",
     "exception": false,
     "start_time": "2021-08-04T07:55:13.624113",
     "status": "completed"
    },
    "tags": []
   },
   "outputs": [],
   "source": [
    "columns_titles = [\"ImageId\",\"Label\"]\n",
    "predicted_classes = predicted_classes.reindex(columns=columns_titles)"
   ]
  },
  {
   "cell_type": "code",
   "execution_count": 38,
   "id": "8b217a3a",
   "metadata": {
    "execution": {
     "iopub.execute_input": "2021-08-04T07:55:41.909132Z",
     "iopub.status.busy": "2021-08-04T07:55:41.908463Z",
     "iopub.status.idle": "2021-08-04T07:55:41.920208Z",
     "shell.execute_reply": "2021-08-04T07:55:41.919730Z",
     "shell.execute_reply.started": "2021-08-04T07:14:36.229222Z"
    },
    "papermill": {
     "duration": 9.40046,
     "end_time": "2021-08-04T07:55:41.920354",
     "exception": false,
     "start_time": "2021-08-04T07:55:32.519894",
     "status": "completed"
    },
    "tags": []
   },
   "outputs": [
    {
     "data": {
      "text/html": [
       "<div>\n",
       "<style scoped>\n",
       "    .dataframe tbody tr th:only-of-type {\n",
       "        vertical-align: middle;\n",
       "    }\n",
       "\n",
       "    .dataframe tbody tr th {\n",
       "        vertical-align: top;\n",
       "    }\n",
       "\n",
       "    .dataframe thead th {\n",
       "        text-align: right;\n",
       "    }\n",
       "</style>\n",
       "<table border=\"1\" class=\"dataframe\">\n",
       "  <thead>\n",
       "    <tr style=\"text-align: right;\">\n",
       "      <th></th>\n",
       "      <th>ImageId</th>\n",
       "      <th>Label</th>\n",
       "    </tr>\n",
       "  </thead>\n",
       "  <tbody>\n",
       "    <tr>\n",
       "      <th>0</th>\n",
       "      <td>1</td>\n",
       "      <td>2</td>\n",
       "    </tr>\n",
       "    <tr>\n",
       "      <th>1</th>\n",
       "      <td>2</td>\n",
       "      <td>0</td>\n",
       "    </tr>\n",
       "    <tr>\n",
       "      <th>2</th>\n",
       "      <td>3</td>\n",
       "      <td>9</td>\n",
       "    </tr>\n",
       "    <tr>\n",
       "      <th>3</th>\n",
       "      <td>4</td>\n",
       "      <td>9</td>\n",
       "    </tr>\n",
       "    <tr>\n",
       "      <th>4</th>\n",
       "      <td>5</td>\n",
       "      <td>3</td>\n",
       "    </tr>\n",
       "    <tr>\n",
       "      <th>...</th>\n",
       "      <td>...</td>\n",
       "      <td>...</td>\n",
       "    </tr>\n",
       "    <tr>\n",
       "      <th>27995</th>\n",
       "      <td>27996</td>\n",
       "      <td>9</td>\n",
       "    </tr>\n",
       "    <tr>\n",
       "      <th>27996</th>\n",
       "      <td>27997</td>\n",
       "      <td>7</td>\n",
       "    </tr>\n",
       "    <tr>\n",
       "      <th>27997</th>\n",
       "      <td>27998</td>\n",
       "      <td>3</td>\n",
       "    </tr>\n",
       "    <tr>\n",
       "      <th>27998</th>\n",
       "      <td>27999</td>\n",
       "      <td>9</td>\n",
       "    </tr>\n",
       "    <tr>\n",
       "      <th>27999</th>\n",
       "      <td>28000</td>\n",
       "      <td>2</td>\n",
       "    </tr>\n",
       "  </tbody>\n",
       "</table>\n",
       "<p>28000 rows × 2 columns</p>\n",
       "</div>"
      ],
      "text/plain": [
       "       ImageId  Label\n",
       "0            1      2\n",
       "1            2      0\n",
       "2            3      9\n",
       "3            4      9\n",
       "4            5      3\n",
       "...        ...    ...\n",
       "27995    27996      9\n",
       "27996    27997      7\n",
       "27997    27998      3\n",
       "27998    27999      9\n",
       "27999    28000      2\n",
       "\n",
       "[28000 rows x 2 columns]"
      ]
     },
     "execution_count": 38,
     "metadata": {},
     "output_type": "execute_result"
    }
   ],
   "source": [
    "predicted_classes"
   ]
  },
  {
   "cell_type": "code",
   "execution_count": 39,
   "id": "efad2dbe",
   "metadata": {
    "execution": {
     "iopub.execute_input": "2021-08-04T07:56:00.698014Z",
     "iopub.status.busy": "2021-08-04T07:56:00.697376Z",
     "iopub.status.idle": "2021-08-04T07:56:00.751985Z",
     "shell.execute_reply": "2021-08-04T07:56:00.751426Z",
     "shell.execute_reply.started": "2021-08-04T07:15:45.220176Z"
    },
    "papermill": {
     "duration": 9.43893,
     "end_time": "2021-08-04T07:56:00.752124",
     "exception": false,
     "start_time": "2021-08-04T07:55:51.313194",
     "status": "completed"
    },
    "tags": []
   },
   "outputs": [],
   "source": [
    "predicted_classes.to_csv('submission.csv', index = None)"
   ]
  }
 ],
 "metadata": {
  "kernelspec": {
   "display_name": "Python 3",
   "language": "python",
   "name": "python3"
  },
  "language_info": {
   "codemirror_mode": {
    "name": "ipython",
    "version": 3
   },
   "file_extension": ".py",
   "mimetype": "text/x-python",
   "name": "python",
   "nbconvert_exporter": "python",
   "pygments_lexer": "ipython3",
   "version": "3.7.10"
  },
  "papermill": {
   "default_parameters": {},
   "duration": 2325.468256,
   "end_time": "2021-08-04T07:56:11.792287",
   "environment_variables": {},
   "exception": null,
   "input_path": "__notebook__.ipynb",
   "output_path": "__notebook__.ipynb",
   "parameters": {},
   "start_time": "2021-08-04T07:17:26.324031",
   "version": "2.3.3"
  }
 },
 "nbformat": 4,
 "nbformat_minor": 5
}
